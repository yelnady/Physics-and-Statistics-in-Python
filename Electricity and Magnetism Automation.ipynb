{
 "cells": [
  {
   "cell_type": "markdown",
   "metadata": {},
   "source": [
    "## This Notebook helps automate the problem-solving process in Electricity and Magnetism"
   ]
  },
  {
   "cell_type": "code",
   "execution_count": 29,
   "metadata": {},
   "outputs": [],
   "source": [
    "from math import *\n",
    "import numpy as np\n",
    "m_e  = 9.11e-31\n",
    "m_p = 1.673e-27\n",
    "q_p = 1.60217e-19\n",
    "q_e = -1 * q_p"
   ]
  },
  {
   "cell_type": "code",
   "execution_count": 3,
   "metadata": {},
   "outputs": [],
   "source": [
    "def speed (volt,mass): #mass here if it's proton or electron\n",
    "    return sqrt(2*q_p*volt/mass)\n",
    "\n",
    "#+x --> east, +y --> top, +z --> north\n",
    "\n",
    "def force (v_,B_,electron):\n",
    "    return (q_e if electron else q_p) * np.cross(v_,B_)\n",
    "def coss(x):\n",
    "    return cos(radians(x))\n",
    "def sinn(x):\n",
    "    return sin(radians(x))\n"
   ]
  },
  {
   "cell_type": "code",
   "execution_count": 4,
   "metadata": {},
   "outputs": [
    {
     "name": "stdout",
     "output_type": "stream",
     "text": [
      "7.956945e+07\n",
      "[ 6.89056268e-16 -0.00000000e+00 -0.00000000e+00]\n"
     ]
    }
   ],
   "source": [
    "v = [0,9.37e+07,0]\n",
    "theta = 60      #I put the sign in (B)\n",
    "B = [0,  53000e-9*coss(theta),53000e-9*-sinn(theta)]    #B0 [y cos(theta) - z sin(theta) ]\n",
    "volts = 18e3\n",
    "\n",
    "print(\"{:e}\".format( speed (volts , m_e)))\n",
    "print(force (v,B,True))\n"
   ]
  },
  {
   "cell_type": "code",
   "execution_count": 35,
   "metadata": {},
   "outputs": [
    {
     "data": {
      "text/plain": [
       "79569450.64094552"
      ]
     },
     "execution_count": 35,
     "metadata": {},
     "output_type": "execute_result"
    }
   ],
   "source": [
    "speed (volts , m_e)"
   ]
  },
  {
   "cell_type": "code",
   "execution_count": 34,
   "metadata": {},
   "outputs": [],
   "source": [
    "c = 3e8\n",
    "def radius_non (v_perp,B):\n",
    "    return (m_e*v_perp/ (q_p*B))\n",
    "\n",
    "def gamma (speed):\n",
    "    return 1/sqrt(1-(speed/c)**2)\n",
    "\n",
    "def gamma(volt,electron): #I'm using proton as a q (speed so mag)\n",
    "    return ((q_p*volt)/((m_e if electron else m_p) * c**2) ) +1\n",
    "\n",
    "def v_over_c (gamma_):\n",
    "    return sqrt(1-1/(gamma_)**2)\n",
    "\n",
    "def check_relativistic(MeV): #enter number with as 25e6, if you've KE just enter it as is it (KE = q * V)\n",
    "     return (MeV/ 0.511e6)*100\n",
    "\n",
    "#this function calculates the speed non relativistically and checks if it's OK or should use another one\n",
    "def speed_non(volt,electron):\n",
    "    res = sqrt(2 * q_p * volt / (m_e if electron else m_p))\n",
    "    print(\"The speed is \"+\"{:e}\".format( res )+ \" and (v/c)% is \"+ str(round((res/c)*100,4)))\n",
    "    return res\n",
    "\n",
    "def speed_relativistic(volt,electron):\n",
    "    gamma_ = gamma(volt,electron)\n",
    "    print(\"gamma = \" + str(gamma_))\n",
    "    vc = v_over_c(gamma_)\n",
    "    print(\"v/c = \"+\"{:e}\".format( vc))\n",
    "    res = vc*c ; print(\"v = \"+\"{:e}\".format(res))\n",
    "    return \"{:e}\".format(res)"
   ]
  },
  {
   "cell_type": "code",
   "execution_count": 38,
   "metadata": {},
   "outputs": [
    {
     "name": "stdout",
     "output_type": "stream",
     "text": [
      "gamma = 8.874117021983132\n",
      "v/c = 9.936305e-01\n",
      "v = 2.980892e+08\n"
     ]
    },
    {
     "data": {
      "text/plain": [
       "'2.980892e+08'"
      ]
     },
     "execution_count": 38,
     "metadata": {},
     "output_type": "execute_result"
    }
   ],
   "source": [
    "#speed_relativistic(3e6,True)\n",
    "\n",
    "speed_relativistic(7.4e9,False)"
   ]
  },
  {
   "cell_type": "code",
   "execution_count": 19,
   "metadata": {},
   "outputs": [],
   "source": [
    "def radius_non(v_perp,B,electron):\n",
    "    return  \"{:e}\".format( ((m_e if electron else m_p)*v_perp/ (q_p*B)))\n",
    "\n",
    "def radius_relativistic(gamma_,v_perp,B,electron):\n",
    "    return (gamma_*(m_e if electron else m_p)*v_perp/ (q_p*B))\n",
    "\n",
    "def Time_periodic_non(B,electron):\n",
    "    return 2*np.pi*(m_e if electron else m_p) / (q_p * B)\n",
    "\n",
    "def Time_periodic_relativistic(gamma_,B,electron):\n",
    "    return 2*np.pi*gamma_*(m_e if electron else m_p) / (q_p * B)\n",
    "\n",
    "def frequency_non(B,electron):\n",
    "    return 1/ Time_periodic_non(B,electron);\n",
    "\n",
    "def frequency_relativistic(gamma_,B,electron):\n",
    "     return 1/ Time_periodic_relativistic(gamma_,B,electron);\n",
    "    \n",
    "def power_non(v_,r):\n",
    "    a = (v_**2) / r\n",
    "    print(\"a = \"+  \"{:e}\".format(a))\n",
    "    return 8.99e9 * (2/3) * (q_p**2) * (a**2) / (c**3)\n",
    "\n",
    "def power_relativistic(gamma_,v_,r):\n",
    "    a = (v_**2) / r\n",
    "    print(\"a = \"+  \"{:e}\".format(a))\n",
    "    return 8.99e9 * (2/3) * (q_p**2) * (a**2) * (gamma_**4) / (c**3)"
   ]
  },
  {
   "cell_type": "code",
   "execution_count": 41,
   "metadata": {},
   "outputs": [
    {
     "name": "stdout",
     "output_type": "stream",
     "text": [
      "a = 1.286455e+20\n",
      "5.84775092807027e-10\n",
      "\n",
      "708479855.1162903\n",
      "0.06737929049679231\n",
      "706260449.3697091\n",
      "a = 1.265836e+08\n",
      "5.638161225616114e-31\n"
     ]
    }
   ],
   "source": [
    "#Time_periodic_relativistic(3.2e-10,gamma(1e16,False),False)\n",
    "print(power_relativistic(8.874,2.98e8,6.903e-4))\n",
    "print()\n",
    "B = 1.2e-10\n",
    "print(radius_relativistic(49.85,2.999396e+08,B,True))\n",
    "print(frequency_relativistic(49.85,B,True))\n",
    "\n",
    "print(radius_relativistic(49.85,2.99e8,1.2e-10,True))\n",
    "print(power_relativistic(49.85,2.99e8,radius_relativistic(49.85,2.99e8,1.2e-10,True)))"
   ]
  },
  {
   "cell_type": "code",
   "execution_count": 10,
   "metadata": {},
   "outputs": [
    {
     "name": "stdout",
     "output_type": "stream",
     "text": [
      "2.500798e-04\n"
     ]
    }
   ],
   "source": [
    "def B_given_I_divided (I,n,start,rf): #r here is the one on RHS, n is number of division, I is the actual one\n",
    "    res = 0\n",
    "    I/=n ; i=start\n",
    "    while (i<start+n):\n",
    "        res += (4*pi*1e-7)*I/ ( 2*pi*(rf*1e-3 - i*1e-3)) #Note that I'm multiplying by 1e3 here\n",
    "        i+=1\n",
    "    return \"{:e}\".format(res) #Don't forget the sign using RHR\n",
    "\n",
    "print(B_given_I_divided(10,10,-4.5,9))\n"
   ]
  }
 ],
 "metadata": {
  "hide_input": false,
  "kernelspec": {
   "display_name": "Python 3",
   "language": "python",
   "name": "python3"
  },
  "language_info": {
   "codemirror_mode": {
    "name": "ipython",
    "version": 3
   },
   "file_extension": ".py",
   "mimetype": "text/x-python",
   "name": "python",
   "nbconvert_exporter": "python",
   "pygments_lexer": "ipython3",
   "version": "3.7.3"
  },
  "toc": {
   "base_numbering": 1,
   "nav_menu": {},
   "number_sections": true,
   "sideBar": true,
   "skip_h1_title": false,
   "title_cell": "Table of Contents",
   "title_sidebar": "Contents",
   "toc_cell": false,
   "toc_position": {},
   "toc_section_display": true,
   "toc_window_display": false
  },
  "varInspector": {
   "cols": {
    "lenName": 16,
    "lenType": 16,
    "lenVar": 40
   },
   "kernels_config": {
    "python": {
     "delete_cmd_postfix": "",
     "delete_cmd_prefix": "del ",
     "library": "var_list.py",
     "varRefreshCmd": "print(var_dic_list())"
    },
    "r": {
     "delete_cmd_postfix": ") ",
     "delete_cmd_prefix": "rm(",
     "library": "var_list.r",
     "varRefreshCmd": "cat(var_dic_list()) "
    }
   },
   "types_to_exclude": [
    "module",
    "function",
    "builtin_function_or_method",
    "instance",
    "_Feature"
   ],
   "window_display": false
  }
 },
 "nbformat": 4,
 "nbformat_minor": 2
}
