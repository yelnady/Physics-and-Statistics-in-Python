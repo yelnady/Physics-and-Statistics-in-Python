{
 "cells": [
  {
   "cell_type": "markdown",
   "metadata": {},
   "source": [
    "## This notepad to help automate the problem-solving process in Statistics and Probability"
   ]
  },
  {
   "cell_type": "code",
   "execution_count": 6,
   "metadata": {
    "ExecuteTime": {
     "end_time": "2020-09-13T21:20:10.488715Z",
     "start_time": "2020-09-13T21:20:08.075434Z"
    }
   },
   "outputs": [],
   "source": [
    "from scipy.integrate import quad,dblquad\n",
    "from numpy import exp,inf\n",
    "from sympy import *\n",
    "'''Discrete'''\n",
    "def ExpectedValue_Disc(nums, xs):\n",
    "    res,i = 0,0\n",
    "    for x in range(xs,len(nums)+1):\n",
    "        res += x * nums[i];i+=1\n",
    "    res = round(res,4)\n",
    "    print(\"Expected Value = \" + str(res))\n",
    "    return res\n",
    "def Variance_Disc(nums,xs):\n",
    "    var, i = 0, 0\n",
    "    for x in range(xs, len(nums)+1):\n",
    "        var += x * x * nums[i]\n",
    "        i += 1\n",
    "    EX2 = round(ExpectedValue_Disc(nums, xs) **2,4)\n",
    "    res = round(var - EX2,4)\n",
    "    print(\"Variance = E(x**2) - (E(x))**2 = \" +str(var)+\" - \" +str(EX2) +\" = \"+ str(res))\n",
    "    return res\n",
    "def ExpectedValue_randomVariable_Disc(nums, xs,rVar):\n",
    "    res,i = 0,0\n",
    "    for x in range(xs,len(nums)+1):\n",
    "        res += eval(rVar) * nums[i];i+=1\n",
    "    res = round(res,4)\n",
    "    print(\"E(\"+rVar+\") = \" + str(res))\n",
    "    return res\n",
    "def Variance_randomVariable_Disc(nums,xs,rVar):\n",
    "    var, i = 0, 0\n",
    "    for x in range(xs, len(nums)+1):\n",
    "        var += eval(rVar) * eval(rVar)* nums[i];\n",
    "        i += 1\n",
    "    res = round(var - ExpectedValue_randomVariable_Disc(nums, xs,rVar) ** 2, 4)\n",
    "    print(\"var(\"+ rVar + \") = \" + str(res))\n",
    "    return res\n"
   ]
  },
  {
   "cell_type": "code",
   "execution_count": 3,
   "metadata": {
    "ExecuteTime": {
     "end_time": "2020-09-13T21:18:38.082870Z",
     "start_time": "2020-09-13T21:18:38.032190Z"
    }
   },
   "outputs": [
    {
     "name": "stdout",
     "output_type": "stream",
     "text": [
      "Expected Value = 1.7778\n",
      "1.7778\n",
      "Expected Value = 1.7778\n",
      "Variance = E(x**2) - (E(x))**2 = 3.7777777777777777 - 3.1606 = 0.6172\n",
      "0.6172\n"
     ]
    }
   ],
   "source": [
    "\n",
    "print(ExpectedValue_Disc([4/9,3/9,2/9],1))\n",
    "print(Variance_Disc([4/9,3/9,2/9],1))\n"
   ]
  },
  {
   "cell_type": "code",
   "execution_count": null,
   "metadata": {
    "ExecuteTime": {
     "end_time": "2020-09-13T21:18:38.226634Z",
     "start_time": "2020-09-13T21:18:32.437Z"
    }
   },
   "outputs": [],
   "source": [
    "nums = [0.4,0.38,0.15,0.07]\n",
    "ExpectedValue_Disc(nums,0)\n",
    "Variance_Disc(nums,0)\n",
    "ExpectedValue_randomVariable_Disc(nums,0,\"(2*x-1)**2\")\n",
    "Variance_randomVariable_Disc(nums,0,\"2*x-1\")\n"
   ]
  },
  {
   "cell_type": "code",
   "execution_count": 9,
   "metadata": {
    "ExecuteTime": {
     "end_time": "2020-09-13T21:20:28.780788Z",
     "start_time": "2020-09-13T21:20:28.667995Z"
    }
   },
   "outputs": [
    {
     "name": "stdout",
     "output_type": "stream",
     "text": [
      "Expected Value = 1.0\n",
      "Expected Value = 1.0\n",
      "Variance = 1.0\n",
      "E(-2*x+1) = -1.0\n",
      "E(-2*x+1) = -1.0\n",
      "var(-2*x+1) = 4.0\n"
     ]
    }
   ],
   "source": [
    "#In python, never write ^, only power is **\n",
    "#note in Discrete convert numbers from y to x, so it works with my program\n",
    "'''Continuous'''\n",
    "def ExpectedValue_Cts(body, xs, xf):\n",
    "    f = lambda x : x*eval(body)\n",
    "    res = round(quad(f,xs,xf)[0],4)\n",
    "    print(\"Expected Value = \" + str(res))\n",
    "    return res\n",
    "\n",
    "def Variance_Cts(body,xs,xf):\n",
    "    f = lambda x: (x**2)*eval(body)\n",
    "    res = round(quad(f,xs,xf)[0] - ExpectedValue_Cts(body, xs, xf)**2 ,4)\n",
    "    print(\"Variance = \" + str(res))\n",
    "    return res\n",
    "\n",
    "def ExpectedValue_randomVariable_Cts(body,xs,xf,rVar):\n",
    "    f = lambda x: eval(rVar) * eval(body)\n",
    "    res = round(quad(f, xs, xf)[0], 4)\n",
    "    print(\"E(\"+rVar+\") = \" + str(res))\n",
    "    return res\n",
    "\n",
    "def Variance_randomVariable_Cts(body,xs,xf,rVar):\n",
    "    f = lambda x: (eval(rVar) ** 2) * eval(body)\n",
    "    res = round(quad(f, xs, xf)[0], 4) - ExpectedValue_randomVariable_Cts(body, xs, xf,rVar) ** 2\n",
    "    print(\"var(\"+ rVar + \") = \" + str(res))\n",
    "    return res\n",
    "\n",
    "xs = 0\n",
    "xf = inf\n",
    "x = 1\n",
    "rVar = \"-2*x+1\"\n",
    "ExpectedValue_Cts(\"exp(-x)\",xs,xf)\n",
    "Variance_Cts(\"exp(-x)\",xs,xf)\n",
    "#ExpectedValue_randomVariable_Cts(\"exp(-x)\",xs,xf,\"exp(x/2)\") --Can't integrate using scipy so calc by hand\n",
    "ExpectedValue_randomVariable_Cts(\"exp(-x)\",xs,xf,rVar)\n",
    "Variance_randomVariable_Cts(\"exp(-x)\",xs,xf,rVar)\n",
    "\n",
    "def ExpectedValue_Cts_XY(body,xs,xf,ys,yf):\n",
    "    f = lambda x,y: x * y *  eval(body)\n",
    "    res = round(dblquad(f, xs, xf,ys,yf)[0], 4)\n",
    "    print(\"E(XY) = \" + str(res))\n",
    "    return res\n",
    "\n",
    "x, y = symbols('x y')\n",
    "def Covariance (body,xs,xf,ys,yf):\n",
    "    print(\"=\"*20+\"Covariance\"+\"=\"*20)\n",
    "    EXY = ExpectedValue_Cts_XY(body,xs,xf,ys,yf)\n",
    "\n",
    "    F1x = str(integrate(eval(body), (y,ys,yf)))\n",
    "    print(\"F1x: \"+F1x)\n",
    "    EX = ExpectedValue_Cts(F1x,xs,xf)\n",
    "    print(\"EX = \" + str(EX))\n",
    "\n",
    "    F1y = str(integrate(eval(body), (x,xs,xf)))\n",
    "    print(\"F1y: \" + F1y)\n",
    "    EY = ExpectedValue_Cts(F1y.replace('y','x'),ys,yf)\n",
    "    print(\"EY = \" + str(EY))\n",
    "\n",
    "    cov = round(EXY - EX * EY, 4)\n",
    "    print(\"Covariance = \"+ str(cov))\n",
    "    print()\n",
    "    varx = Variance_Cts(F1x,xs,xf)\n",
    "    vary = Variance_Cts(F1y.replace('y','x'),ys,yf)\n",
    "    corr = round(cov / sqrt(varx*vary),4)\n",
    "    print(\"Correlation = \"+str(corr))\n",
    "    return cov,corr\n",
    "    print()\n",
    "\n",
    "    print(F1y)\n"
   ]
  },
  {
   "cell_type": "code",
   "execution_count": 11,
   "metadata": {
    "ExecuteTime": {
     "end_time": "2020-09-13T21:20:36.077088Z",
     "start_time": "2020-09-13T21:20:35.009103Z"
    }
   },
   "outputs": [
    {
     "name": "stdout",
     "output_type": "stream",
     "text": [
      "E(XY) = 0.3333\n",
      "====================Covariance====================\n",
      "E(XY) = 0.3333\n",
      "F1x: x + 1/2\n",
      "Expected Value = 0.5833\n",
      "EX = 0.5833\n",
      "F1y: y + 1/2\n",
      "Expected Value = 0.5833\n",
      "EY = 0.5833\n",
      "Covariance = -0.0069\n",
      "\n",
      "Expected Value = 0.5833\n",
      "Variance = 0.0764\n",
      "Expected Value = 0.5833\n",
      "Variance = 0.0764\n",
      "Correlation = -0.0903\n"
     ]
    },
    {
     "data": {
      "text/plain": [
       "(-0.0069, -0.0903)"
      ]
     },
     "execution_count": 11,
     "metadata": {},
     "output_type": "execute_result"
    }
   ],
   "source": [
    "\n",
    "ExpectedValue_Cts_XY(\"x+y\",0,1,0,1)\n",
    "Covariance(\"x+y\",0,1,0,1)"
   ]
  }
 ],
 "metadata": {
  "hide_input": false,
  "kernelspec": {
   "display_name": "Python 3",
   "language": "python",
   "name": "python3"
  },
  "language_info": {
   "codemirror_mode": {
    "name": "ipython",
    "version": 3
   },
   "file_extension": ".py",
   "mimetype": "text/x-python",
   "name": "python",
   "nbconvert_exporter": "python",
   "pygments_lexer": "ipython3",
   "version": "3.7.3"
  },
  "toc": {
   "base_numbering": 1,
   "nav_menu": {},
   "number_sections": true,
   "sideBar": true,
   "skip_h1_title": false,
   "title_cell": "Table of Contents",
   "title_sidebar": "Contents",
   "toc_cell": false,
   "toc_position": {},
   "toc_section_display": true,
   "toc_window_display": false
  },
  "varInspector": {
   "cols": {
    "lenName": 16,
    "lenType": 16,
    "lenVar": 40
   },
   "kernels_config": {
    "python": {
     "delete_cmd_postfix": "",
     "delete_cmd_prefix": "del ",
     "library": "var_list.py",
     "varRefreshCmd": "print(var_dic_list())"
    },
    "r": {
     "delete_cmd_postfix": ") ",
     "delete_cmd_prefix": "rm(",
     "library": "var_list.r",
     "varRefreshCmd": "cat(var_dic_list()) "
    }
   },
   "types_to_exclude": [
    "module",
    "function",
    "builtin_function_or_method",
    "instance",
    "_Feature"
   ],
   "window_display": false
  }
 },
 "nbformat": 4,
 "nbformat_minor": 2
}
